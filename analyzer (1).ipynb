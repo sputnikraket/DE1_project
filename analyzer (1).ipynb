{
 "cells": [
  {
   "cell_type": "code",
   "execution_count": 1,
   "metadata": {},
   "outputs": [],
   "source": [
    "from pyspark.sql import SparkSession\n",
    "from pyspark.sql.functions import col\n",
    "from pyspark.sql import functions as F\n",
    "from pyspark.sql.functions import *\n",
    "from pyspark.sql.types import *\n",
    "import pandas\n",
    "import numpy as np"
   ]
  },
  {
   "cell_type": "code",
   "execution_count": 2,
   "metadata": {},
   "outputs": [
    {
     "name": "stderr",
     "output_type": "stream",
     "text": [
      "Setting default log level to \"WARN\".\n",
      "To adjust logging level use sc.setLogLevel(newLevel). For SparkR, use setLogLevel(newLevel).\n",
      "24/03/07 17:01:49 WARN NativeCodeLoader: Unable to load native-hadoop library for your platform... using builtin-java classes where applicable\n"
     ]
    }
   ],
   "source": [
    "spark = SparkSession\\\n",
    "        .builder\\\n",
    "        .master(\"spark://192.168.2.83:7077\") \\\n",
    "        .appName(\"Erik_testar\")\\\n",
    "        .config(\"spark.dynamicAllocation.enabled\", False)\\\n",
    "        .config(\"spark.dynamicAllocation.shuffleTracking.enabled\",False)\\\n",
    "        .config(\"spark.shuffle.service.enabled\", False)\\\n",
    "        .config(\"spark.dynamicAllocation.executorIdleTimeout\",\"30s\")\\\n",
    "        .config(\"spark.executor.cores\",2)\\\n",
    "        .config(\"spark.driver.port\",9999)\\\n",
    "        .config(\"spark.blockManager.port\",10005)\\\n",
    "        .getOrCreate()\n",
    "\n",
    "#If you get following error: \"WARN TaskSchedulerImpl: Initial job has not accepted any resources; check your cluster UI to ensure that workers are registered and have sufficient resources\" \n",
    "#solve by setting dynamicAlloc and Shuffletracking to FALSE"
   ]
  },
  {
   "cell_type": "code",
   "execution_count": 3,
   "metadata": {},
   "outputs": [
    {
     "name": "stderr",
     "output_type": "stream",
     "text": [
      "                                                                                \r"
     ]
    }
   ],
   "source": [
    "schema = StructType([\\\n",
    "    StructField(\"TrackID\", StringType(), True),\\\n",
    "    StructField(\"Genre\", StringType(), True)])\n",
    "\n",
    "million_song_df = spark.read.csv(\"hdfs://192.168.2.83:9000/user/ubuntu/SongCSVWithTrackID.csv\", header=True, inferSchema=True)\n",
    "million_song_notbyte_df = million_song_df.withColumn(\"TrackID\", regexp_replace(col(\"TrackID\").cast(StringType()), \"['b']\", \"\"))\n",
    "\n",
    "genres_df = spark.read.option(\"delimiter\", \"\\t\").csv(\"hdfs://192.168.2.83:9000/user/ubuntu/genres.csv\", schema=schema)\n",
    "\n",
    "million_song_notbyte_df.take(1)\n",
    "# Filter out songs with year=0\n",
    "filtered_million_song_df = million_song_notbyte_df.filter(col(\"Year\") != 0)\n",
    "\n",
    "# Join the two DataFrames on the common column (e.g., track_id)\n",
    "# joined_df = genres_df.join(filtered_million_song_df, genres_df[\"TrackID\"] == million_song_df[\"TrackID\"])\n",
    "joined_df = genres_df.join(filtered_million_song_df, genres_df[\"TrackID\"] == filtered_million_song_df[\"TrackID\"])\n",
    "\n",
    "\n",
    "# Group by genre and year, then calculate the percentage of songs in each genre by year\n",
    "result_df = joined_df.groupBy(\"Genre\", \"Year\").count()\n",
    "result_df = result_df.orderBy(\"Year\")\n",
    "pivot_table = result_df.groupBy(\"Year\").pivot(\"Genre\").agg(count(\"Genre\").alias(\"count\")).fillna(0).orderBy(\"Year\")\n",
    "\n",
    "pivot_table = result_df\n",
    "\n",
    "\n",
    "# Show the result or save it as needed\n",
    "# filtered_million_song_df.take(1)\n",
    "# joined_df.take(10)\n",
    "# result_df.take(100)\n"
   ]
  },
  {
   "cell_type": "code",
   "execution_count": 4,
   "metadata": {},
   "outputs": [
    {
     "name": "stderr",
     "output_type": "stream",
     "text": [
      "[Stage 29:>                                                         (0 + 1) / 1]\r"
     ]
    },
    {
     "name": "stdout",
     "output_type": "stream",
     "text": [
      "+----+-----+-------+----------+----+----+-----+-----+-------+---+----+---+------+---+----+-----+\n",
      "|Year|Blues|Country|Electronic|Folk|Jazz|Latin|Metal|New Age|Pop|Punk|Rap|Reggae|RnB|Rock|World|\n",
      "+----+-----+-------+----------+----+----+-----+-----+-------+---+----+---+------+---+----+-----+\n",
      "|1926|    2|      0|         0|   0|   0|    0|    0|      0|  0|   0|  0|     0|  0|   0|    0|\n",
      "|1927|    2|      0|         0|   0|   0|    0|    0|      0|  0|   0|  0|     0|  0|   0|    0|\n",
      "|1929|    1|      0|         0|   0|   0|    0|    0|      0|  0|   0|  0|     0|  0|   0|    0|\n",
      "|1930|    2|      0|         0|   0|   0|    0|    0|      0|  0|   0|  0|     0|  0|   0|    0|\n",
      "|1934|    1|      0|         0|   0|   0|    0|    0|      0|  0|   0|  0|     0|  0|   0|    0|\n",
      "|1935|    2|      0|         0|   0|   0|    0|    0|      0|  0|   0|  0|     0|  0|   0|    0|\n",
      "|1936|    0|      1|         0|   0|   0|    0|    0|      0|  0|   0|  0|     0|  0|   0|    0|\n",
      "|1940|    2|      0|         0|   0|   0|    0|    0|      0|  0|   0|  0|     0|  0|   0|    0|\n",
      "|1947|    0|      1|         0|   0|   0|    0|    0|      0|  0|   0|  0|     0|  0|   0|    0|\n",
      "|1950|    1|      0|         0|   0|   0|    0|    0|      0|  0|   0|  0|     0|  0|   0|    0|\n",
      "|1953|    1|      0|         0|   0|   0|    0|    0|      0|  0|   0|  0|     0|  0|   0|    0|\n",
      "|1955|    0|      0|         0|   0|   1|    0|    0|      0|  0|   0|  0|     0|  0|   0|    0|\n",
      "|1956|    2|      1|         0|   0|   1|    0|    0|      0|  0|   0|  0|     0|  0|   0|    0|\n",
      "|1958|    0|      0|         0|   1|   0|    0|    0|      0|  0|   0|  0|     0|  1|   0|    0|\n",
      "|1959|    0|      3|         0|   0|   1|    0|    0|      0|  0|   0|  0|     0|  0|   0|    0|\n",
      "|1960|    1|      1|         0|   0|   0|    0|    0|      0|  0|   0|  0|     0|  1|   0|    0|\n",
      "|1961|    0|      2|         0|   0|   0|    0|    0|      0|  0|   0|  0|     0|  0|   0|    0|\n",
      "|1962|    0|      1|         0|   0|   0|    0|    0|      0|  1|   0|  0|     0|  0|   0|    0|\n",
      "|1963|    0|      3|         0|   0|   1|    0|    0|      0|  1|   0|  0|     0|  1|   0|    0|\n",
      "|1964|    0|      0|         0|   0|   1|    0|    0|      0|  0|   0|  0|     0|  0|   2|    0|\n",
      "|1965|    1|      1|         0|   0|   0|    0|    0|      0|  0|   0|  0|     0|  1|   1|    0|\n",
      "|1966|    2|      0|         1|   0|   0|    0|    0|      0|  0|   0|  0|     0|  0|   3|    0|\n",
      "|1967|    2|      3|         0|   0|   1|    0|    0|      0|  0|   0|  0|     0|  1|   5|    0|\n",
      "|1968|    2|      2|         0|   1|   0|    0|    0|      0|  0|   0|  0|     0|  1|   4|    0|\n",
      "|1969|    1|      1|         0|   0|   1|    0|    0|      0|  2|   0|  0|     1|  0|   6|    0|\n",
      "|1970|    1|      2|         0|   0|   0|    1|    0|      0|  0|   0|  0|     0|  1|   2|    0|\n",
      "|1971|    2|      1|         0|   0|   0|    0|    0|      0|  0|   0|  0|     0|  1|   6|    0|\n",
      "|1972|    1|      0|         0|   0|   0|    1|    0|      0|  0|   0|  0|     0|  3|   9|    0|\n",
      "|1973|    1|      0|         0|   2|   0|    1|    0|      0|  1|   0|  0|     1|  0|   3|    0|\n",
      "|1974|    1|      1|         0|   0|   0|    0|    0|      0|  0|   0|  0|     0|  0|   6|    0|\n",
      "|1975|    0|      0|         0|   0|   1|    0|    0|      0|  2|   0|  0|     0|  2|   7|    0|\n",
      "|1976|    0|      2|         0|   0|   0|    0|    0|      0|  1|   0|  0|     0|  0|   5|    0|\n",
      "|1977|    0|      2|         0|   0|   2|    0|    0|      0|  0|   4|  0|     3|  0|   5|    0|\n",
      "|1978|    0|      0|         0|   0|   0|    0|    0|      0|  0|   2|  0|     1|  0|   8|    0|\n",
      "|1979|    0|      0|         0|   0|   2|    0|    0|      0|  0|   3|  0|     4|  0|  10|    0|\n",
      "|1980|    1|      1|         0|   1|   1|    0|    0|      0|  0|   5|  0|     1|  0|  10|    0|\n",
      "|1981|    0|      0|         1|   0|   1|    0|    0|      0|  1|   3|  1|     2|  0|  14|    0|\n",
      "|1982|    0|      1|         0|   0|   1|    0|    0|      0|  1|   4|  0|     3|  0|  11|    0|\n",
      "|1983|    4|      1|         0|   0|   3|    0|    0|      3|  0|   0|  0|     0|  1|  12|    0|\n",
      "|1984|    1|      0|         0|   0|   0|    0|    0|      0|  1|   0|  1|     1|  0|  10|    0|\n",
      "|1985|    4|      0|         0|   0|   0|    0|    1|      0|  1|   2|  2|     1|  0|   4|    0|\n",
      "|1986|    0|      2|         0|   0|   1|    0|    0|      0|  3|   2|  0|     0|  0|   8|    0|\n",
      "|1987|    0|      3|         1|   0|   1|    0|    1|      0|  1|   1|  4|     0|  0|  13|    0|\n",
      "|1988|    4|      2|         1|   0|   2|    0|    0|      0|  0|   1|  4|     0|  1|  19|    0|\n",
      "|1989|    5|      2|         1|   0|   0|    0|    0|      2|  3|   0|  3|     3|  0|  11|    0|\n",
      "|1990|    6|      5|         2|   0|   0|    0|    0|      1|  3|   0|  3|     0|  1|   8|    0|\n",
      "|1991|    3|      1|         1|   0|   0|    0|    1|      0|  2|   0|  6|     7|  1|  13|    0|\n",
      "|1992|    3|      4|         1|   0|   2|    1|    1|      2|  4|   2|  8|     3|  1|  16|    1|\n",
      "|1993|    4|      4|         3|   2|   1|    0|    1|      0|  2|   1|  6|     2|  2|  11|    1|\n",
      "|1994|    5|      3|         4|   0|   1|    1|    2|      0|  3|   1|  4|     2|  2|   9|    0|\n",
      "|1995|    7|      6|         6|   0|   3|    2|    3|      0|  4|   0|  1|     3|  1|  19|    0|\n",
      "|1996|    6|      5|         3|   1|   1|    0|    0|      1|  2|   2|  5|     2|  0|  18|    0|\n",
      "|1997|   10|      3|         3|   0|   2|    2|    3|      0|  2|   2|  6|     5|  0|  12|    2|\n",
      "|1998|    4|      4|         1|   0|   1|    3|    1|      1|  0|   1| 10|     0|  0|  15|    2|\n",
      "|1999|    4|      3|         5|   1|   2|    7|    2|      2|  3|   1|  9|     3|  3|  20|    0|\n",
      "|2000|    2|      4|         6|   0|   5|    2|    4|      0|  7|   4| 11|     1|  4|  20|    1|\n",
      "|2001|    4|      3|         6|   1|   2|    3|    5|      1|  8|   1| 14|     4|  2|  27|    2|\n",
      "|2002|    2|      5|         4|   2|   2|    1|    6|      0|  6|   3| 11|     3|  2|  22|    0|\n",
      "|2003|    3|      4|         8|   0|   6|    1|    3|      0|  6|   1| 11|     3|  5|  38|    2|\n",
      "|2004|    5|      3|        13|   3|   2|    3|    8|      0| 10|   0| 20|     2|  1|  37|    0|\n",
      "|2005|    5|      7|        12|   0|   5|    3|    4|      0|  4|   2| 12|     5|  6|  52|    0|\n",
      "|2006|    6|      3|        17|   1|   3|    2|    8|      1| 11|   1|  7|     4| 10|  48|    1|\n",
      "|2007|    2|      2|         6|   1|   5|    0|   10|      0| 16|   0|  7|     6|  6|  37|    1|\n",
      "|2008|    1|      6|        12|   0|   5|    1|    5|      0|  8|   0|  5|     4|  6|  31|    1|\n",
      "|2009|    1|      1|         6|   0|   1|    0|    6|      2| 10|   1|  8|     2|  2|  32|    0|\n",
      "|2010|    2|      0|         2|   0|   0|    0|    1|      0|  0|   0|  1|     1|  2|   6|    0|\n",
      "+----+-----+-------+----------+----+----+-----+-----+-------+---+----+---+------+---+----+-----+\n",
      "\n"
     ]
    },
    {
     "name": "stderr",
     "output_type": "stream",
     "text": [
      "                                                                                \r"
     ]
    }
   ],
   "source": [
    "# Group by Genre and Year and calculate the count\n",
    "result_df = joined_df.groupBy(\"Genre\", \"Year\").count()       \n",
    "\n",
    "# Pivot the DataFrame to display counts for each genre in each year\n",
    "pivot_result_df = result_df.groupBy(\"Year\").pivot(\"Genre\").agg(F.first(\"count\"))\n",
    "\n",
    "# Fill null values with 0\n",
    "pivot_result_df    =    pivot_result_df.na.fill(0).orderBy(\"Year\")\n",
    "\n",
    "# Show the result\n",
    "pivot_result_df.show(100)"
   ]
  },
  {
   "cell_type": "code",
   "execution_count": null,
   "metadata": {},
   "outputs": [],
   "source": [
    "pivot_reslts_Pandas = pivot_result_df.toPandas()\n",
    "pivot_reslts_Pandas = pivot_reslts_Pandas.set_index(\"Year\")\n",
    "# pivot_reslts_Pandas = pivot_reslts_Pandas.apply(lambda x: x*100/sum(x), axis=1)\n",
    "pivot_reslts_Pandas_test = pivot_reslts_Pandas.div(pivot_reslts_Pandas.sum(axis=1), axis=0) * 100\n",
    "interestingDF=pivot_reslts_Pandas_test[pivot_reslts_Pandas_test.index > 1970]\n",
    "interestingDF.plot(kind=\"bar\", stacked=True, figsize=(20,20))\n",
    "\n",
    "\n",
    "#save figure\n",
    "interestingDF.plot(kind=\"bar\", stacked=True, figsize=(20,20)).get_figure().savefig(\"prelresult.png\")\n",
    "\n",
    "# pivot_reslts_Pandas.head()"
   ]
  },
  {
   "cell_type": "code",
   "execution_count": null,
   "metadata": {},
   "outputs": [],
   "source": [
    "# release the cores for another application!\n",
    "spark_session.stop()"
   ]
  },
  {
   "cell_type": "code",
   "execution_count": null,
   "metadata": {},
   "outputs": [],
   "source": [
    "\n",
    "print(songs_df.take(1))\n",
    "print(genre_df.take(1))"
   ]
  },
  {
   "cell_type": "code",
   "execution_count": null,
   "metadata": {},
   "outputs": [],
   "source": [
    "genre_df.head() "
   ]
  },
  {
   "cell_type": "code",
   "execution_count": null,
   "metadata": {},
   "outputs": [],
   "source": []
  }
 ],
 "metadata": {
  "kernelspec": {
   "display_name": "Python 3 (ipykernel)",
   "language": "python",
   "name": "python3"
  },
  "language_info": {
   "codemirror_mode": {
    "name": "ipython",
    "version": 3
   },
   "file_extension": ".py",
   "mimetype": "text/x-python",
   "name": "python",
   "nbconvert_exporter": "python",
   "pygments_lexer": "ipython3",
   "version": "3.8.10"
  }
 },
 "nbformat": 4,
 "nbformat_minor": 4
}
